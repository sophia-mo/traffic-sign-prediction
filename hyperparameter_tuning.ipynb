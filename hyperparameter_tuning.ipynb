{
 "cells": [
  {
   "cell_type": "code",
   "execution_count": 6,
   "metadata": {},
   "outputs": [],
   "source": [
    "import pandas as pd\n",
    "from sklearn.preprocessing import StandardScaler\n",
    "from sklearn.svm import SVC\n",
    "from sklearn.model_selection import RandomizedSearchCV"
   ]
  },
  {
   "cell_type": "code",
   "execution_count": 7,
   "metadata": {},
   "outputs": [],
   "source": [
    "def preprocess_data():\n",
    "\ttrain_df = pd.read_csv('processed_data/train_rf.csv')\n",
    "\tval_df = pd.read_csv(f'processed_data/val_rf.csv')\n",
    "\ttest_df = pd.read_csv(f'processed_data/test_rf.csv')\n",
    "    \n",
    "    # Combine training and validation for tuning\n",
    "\tcombined_df = pd.concat([train_df, val_df], ignore_index=True)\n",
    "\tX = combined_df.drop(['image_path', 'ClassId'], axis=1)\n",
    "\ty = combined_df['ClassId']\n",
    "    \n",
    "    # Prepare test features\n",
    "\tX_test = test_df.drop(['image_path', 'ClassId'], axis=1)\n",
    "    \n",
    "\tscaler = StandardScaler()\n",
    "\tX_scaled = scaler.fit_transform(X)\n",
    "\tX_test_scaled = scaler.transform(X_test)\n",
    "\n",
    "\treturn X_scaled, y, X_test_scaled"
   ]
  },
  {
   "cell_type": "code",
   "execution_count": 8,
   "metadata": {},
   "outputs": [],
   "source": [
    "def tune_best_model(X_scaled, y):\n",
    "\tsvm_param_grid = {\n",
    "\t\t'C': [0.1, 1, 10, 100],\n",
    "\t\t'gamma': ['scale', 'auto', 0.01, 0.1],\n",
    "\t\t'kernel': ['rbf', 'poly', 'sigmoid']\n",
    "\t}\n",
    "\n",
    "\tsvm_random = RandomizedSearchCV(\n",
    "\t\tSVC(probability=True, random_state=42),\n",
    "\t\tparam_distributions=svm_param_grid,\n",
    "\t\tn_iter=10,\n",
    "\t\tcv=5,\n",
    "\t\tverbose=1,\n",
    "\t\trandom_state=42,\n",
    "\t\tn_jobs=-1\n",
    "\t)\n",
    "    \n",
    "\tsvm_random.fit(X_scaled, y)\n",
    "\tprint(f\"Best SVM parameters: {svm_random.best_params_}\")\n",
    "\ttuned_best_model = svm_random.best_estimator_\n",
    "\t\n",
    "\treturn tuned_best_model"
   ]
  },
  {
   "cell_type": "code",
   "execution_count": 9,
   "metadata": {},
   "outputs": [],
   "source": [
    "def predict_test_data():\n",
    "    X_scaled, y, X_test_scaled = preprocess_data()\n",
    "    tuned_best_model = tune_best_model(X_scaled, y)\n",
    "    test_pred = tuned_best_model.predict(X_test_scaled)\n",
    "\n",
    "    test_metadata_df = pd.read_csv('test/test_metadata.csv')\n",
    "\n",
    "    # Create submission DataFrame\n",
    "    submission = pd.DataFrame({\n",
    "        'id': test_metadata_df['id'],\n",
    "        'ClassId': test_pred\n",
    "    })\n",
    "\n",
    "    submission.to_csv('submission.csv', index=False)"
   ]
  },
  {
   "cell_type": "code",
   "execution_count": 10,
   "metadata": {},
   "outputs": [
    {
     "name": "stdout",
     "output_type": "stream",
     "text": [
      "Fitting 5 folds for each of 10 candidates, totalling 50 fits\n",
      "Best SVM parameters: {'kernel': 'rbf', 'gamma': 'scale', 'C': 10}\n"
     ]
    }
   ],
   "source": [
    "predict_test_data()\n"
   ]
  }
 ],
 "metadata": {
  "kernelspec": {
   "display_name": "myenv",
   "language": "python",
   "name": "python3"
  },
  "language_info": {
   "codemirror_mode": {
    "name": "ipython",
    "version": 3
   },
   "file_extension": ".py",
   "mimetype": "text/x-python",
   "name": "python",
   "nbconvert_exporter": "python",
   "pygments_lexer": "ipython3",
   "version": "3.9.19"
  }
 },
 "nbformat": 4,
 "nbformat_minor": 2
}
