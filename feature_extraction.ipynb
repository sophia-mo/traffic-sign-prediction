{
 "cells": [
  {
   "cell_type": "code",
   "execution_count": 7,
   "metadata": {},
   "outputs": [],
   "source": [
    "import cv2\n",
    "import numpy as np\n",
    "import pandas as pd\n",
    "import os\n",
    "from tqdm import tqdm\n",
    "from PIL import Image\n",
    "from skimage.feature import local_binary_pattern\n",
    "from skimage.feature import graycomatrix, graycoprops"
   ]
  },
  {
   "cell_type": "markdown",
   "metadata": {},
   "source": [
    "## Shape Features"
   ]
  },
  {
   "cell_type": "code",
   "execution_count": 8,
   "metadata": {},
   "outputs": [],
   "source": [
    "def get_shape_features(img):\n",
    "    # Convert to grayscale\n",
    "    gray = cv2.cvtColor(img, cv2.COLOR_RGB2GRAY)\n",
    "    \n",
    "    # Apply thresholding\n",
    "    ret, thresh = cv2.threshold(gray, 60, 255, cv2.THRESH_BINARY)\n",
    "    \n",
    "    # Find contours\n",
    "    contours, _ = cv2.findContours(thresh, cv2.RETR_EXTERNAL, cv2.CHAIN_APPROX_SIMPLE)\n",
    "    \n",
    "    features = {}\n",
    "    \n",
    "    if contours:\n",
    "        # Get the largest contour\n",
    "        largest = max(contours, key=cv2.contourArea)\n",
    "        \n",
    "        # Shape metrics\n",
    "        area = cv2.contourArea(largest)\n",
    "        perimeter = cv2.arcLength(largest, True)\n",
    "        \n",
    "        # Circularity: 4*pi*area/perimeter^2 (1 for perfect circle, less for other shapes)\n",
    "        if perimeter > 0:\n",
    "            features['circularity'] = 4 * np.pi * area / (perimeter ** 2)\n",
    "        else:\n",
    "            features['circularity'] = 0\n",
    "            \n",
    "        # Aspect ratio of bounding rectangle\n",
    "        x, y, w, h = cv2.boundingRect(largest)\n",
    "        features['aspect_ratio'] = float(w) / h if h > 0 else 0\n",
    "        \n",
    "        # Convexity: ratio of contour perimeter to convex hull perimeter\n",
    "        hull = cv2.convexHull(largest)\n",
    "        hull_perimeter = cv2.arcLength(hull, True)\n",
    "        features['convexity'] = perimeter / hull_perimeter if hull_perimeter > 0 else 0\n",
    "        \n",
    "        # Solidity: ratio of contour area to convex hull area\n",
    "        hull_area = cv2.contourArea(hull)\n",
    "        features['solidity'] = area / hull_area if hull_area > 0 else 0\n",
    "        \n",
    "        # Extent: ratio of contour area to bounding rectangle area\n",
    "        features['extent'] = area / (w * h) if (w * h) > 0 else 0\n",
    "        \n",
    "        # Calculate moments for shape properties\n",
    "        moments = cv2.moments(largest)\n",
    "        \n",
    "        # Calculate center of mass\n",
    "        if moments['m00'] != 0:\n",
    "            cx = moments['m10'] / moments['m00']\n",
    "            cy = moments['m01'] / moments['m00']\n",
    "            \n",
    "            # Normalized central moments\n",
    "            features['norm_central_moment_20'] = moments['nu20']\n",
    "            features['norm_central_moment_11'] = moments['nu11']\n",
    "            features['norm_central_moment_02'] = moments['nu02']\n",
    "            features['norm_central_moment_30'] = moments['nu30']\n",
    "        else:\n",
    "            features['norm_central_moment_20'] = 0\n",
    "            features['norm_central_moment_11'] = 0\n",
    "            features['norm_central_moment_02'] = 0\n",
    "            features['norm_central_moment_30'] = 0\n",
    "        \n",
    "    else:\n",
    "        # If no contours found, set default values\n",
    "        features['circularity'] = 0\n",
    "        features['aspect_ratio'] = 0\n",
    "        features['convexity'] = 0\n",
    "        features['solidity'] = 0\n",
    "        features['extent'] = 0\n",
    "        features['norm_central_moment_20'] = 0\n",
    "        features['norm_central_moment_11'] = 0\n",
    "        features['norm_central_moment_02'] = 0\n",
    "        features['norm_central_moment_30'] = 0\n",
    "    \n",
    "    return features"
   ]
  },
  {
   "cell_type": "markdown",
   "metadata": {},
   "source": [
    "## Texture Features"
   ]
  },
  {
   "cell_type": "code",
   "execution_count": 9,
   "metadata": {},
   "outputs": [],
   "source": [
    "def get_texture_features(img):\n",
    "    # Convert to grayscale\n",
    "    gray = cv2.cvtColor(img, cv2.COLOR_RGB2GRAY)\n",
    "    \n",
    "    features = {}\n",
    "    \n",
    "    # Parameters for LBP\n",
    "    radius = 2\n",
    "    n_points = 8 * radius\n",
    "    \n",
    "    # Compute LBP\n",
    "    lbp = local_binary_pattern(gray, n_points, radius, method=\"uniform\")\n",
    "    \n",
    "    # Calculate histogram of LBP values\n",
    "    hist, _ = np.histogram(lbp.ravel(), bins=np.arange(0, n_points + 3), range=(0, n_points + 2))\n",
    "    hist = hist.astype(\"float\")\n",
    "    hist /= (hist.sum() + 1e-10)  # Normalize\n",
    "    \n",
    "    # Instead of using all histogram bins, use statistical measures derived from LBP\n",
    "    features['lbp_entropy'] = -np.sum(hist * np.log2(hist + 1e-10))\n",
    "    features['lbp_energy'] = np.sum(hist ** 2)\n",
    "    features['lbp_max'] = np.max(hist)\n",
    "    features['lbp_uniformity'] = np.sum(hist * hist)\n",
    "    \n",
    "    # GLCM (Gray-Level Co-occurrence Matrix) features\n",
    "    # Scale down to fewer gray levels to reduce computation\n",
    "    gray_scaled = (gray / 32).astype(np.uint8)\n",
    "    \n",
    "    # Calculate GLCM \n",
    "    distances = [1]\n",
    "    angles = [0, np.pi/2]  # Just horizontal and vertical directions\n",
    "    glcm = graycomatrix(gray_scaled, distances, angles, levels=8, symmetric=True, normed=True)\n",
    "    \n",
    "    # Calculate GLCM properties\n",
    "    properties = ['contrast', 'homogeneity', 'correlation', 'energy']\n",
    "    for prop in properties:\n",
    "        prop_values = graycoprops(glcm, prop).flatten()\n",
    "        for i, value in enumerate(prop_values):\n",
    "            features[f'glcm_{prop}_{i}'] = value\n",
    "    \n",
    "    # Haralick texture features\n",
    "    # Compute image gradients for texture directionality\n",
    "    gx = cv2.Sobel(gray, cv2.CV_64F, 1, 0, ksize=3)\n",
    "    gy = cv2.Sobel(gray, cv2.CV_64F, 0, 1, ksize=3)\n",
    "    \n",
    "    # Magnitude and angle\n",
    "    mag, angle = cv2.cartToPolar(gx, gy)\n",
    "    \n",
    "    # Directional statistics\n",
    "    features['gradient_mean_magnitude'] = np.mean(mag)\n",
    "    features['gradient_std_magnitude'] = np.std(mag)\n",
    "    \n",
    "    # Compute histogram of oriented gradients (simplified, not full HOG)\n",
    "    angle_bins = 8\n",
    "    angle_hist, _ = np.histogram(angle, bins=angle_bins, range=(0, 2*np.pi))\n",
    "    angle_hist = angle_hist.astype(\"float\")\n",
    "    angle_hist /= (angle_hist.sum() + 1e-10)  # Normalize\n",
    "    \n",
    "    # Gradient direction statistics\n",
    "    features['gradient_direction_entropy'] = -np.sum(angle_hist * np.log2(angle_hist + 1e-10))\n",
    "    features['gradient_direction_energy'] = np.sum(angle_hist ** 2)\n",
    "    \n",
    "    return features"
   ]
  },
  {
   "cell_type": "markdown",
   "metadata": {},
   "source": [
    "## Main Function"
   ]
  },
  {
   "cell_type": "code",
   "execution_count": 10,
   "metadata": {},
   "outputs": [],
   "source": [
    "def load_image(path):\n",
    "    img = Image.open(path).convert(\"RGB\")\n",
    "    return np.array(img)"
   ]
  },
  {
   "cell_type": "code",
   "execution_count": 11,
   "metadata": {},
   "outputs": [],
   "source": [
    "feature_extractors = {\n",
    "    'shape': get_shape_features,\n",
    "    'texture': get_texture_features,\n",
    "}"
   ]
  },
  {
   "cell_type": "code",
   "execution_count": 12,
   "metadata": {},
   "outputs": [],
   "source": [
    "def extract_features(mode, feature_type):\n",
    "    meta_path = os.path.join(mode, f\"{mode}_metadata.csv\")\n",
    "    df = pd.read_csv(meta_path)\n",
    "\n",
    "    all_features = []\n",
    "    feature_extractor = feature_extractors.get(feature_type)\n",
    "\n",
    "    for path in tqdm(df['image_path'], desc=f\"Extracting shape features for {mode}\"):\n",
    "        full_path = os.path.join(mode, path)\n",
    "        try:\n",
    "            img = load_image(full_path)\n",
    "            features = feature_extractor(img)\n",
    "            features['image_path'] = path\n",
    "            all_features.append(features)\n",
    "        except Exception as e:\n",
    "            print(f\"Error processing {path}: {e}\")\n",
    "            all_features.append({'image_path': path})\n",
    "\n",
    "    features_df = pd.DataFrame(all_features)\n",
    "    cols = ['image_path'] + [col for col in features_df.columns if col != 'image_path']\n",
    "    features_df = features_df[cols]\n",
    "\n",
    "    output_dir = os.path.join(mode, \"Features\")\n",
    "    os.makedirs(output_dir, exist_ok=True)\n",
    "    output_path = os.path.join(output_dir, f\"{feature_type}_features.csv\")\n",
    "    features_df.to_csv(output_path, index=False)"
   ]
  },
  {
   "cell_type": "code",
   "execution_count": 13,
   "metadata": {},
   "outputs": [
    {
     "name": "stderr",
     "output_type": "stream",
     "text": [
      "Extracting shape features for train: 100%|██████████| 5488/5488 [00:04<00:00, 1358.12it/s]\n",
      "Extracting shape features for test: 100%|██████████| 2353/2353 [00:01<00:00, 1374.64it/s]\n"
     ]
    }
   ],
   "source": [
    "extract_features('train', 'shape')\n",
    "extract_features('test', 'shape')"
   ]
  },
  {
   "cell_type": "code",
   "execution_count": 14,
   "metadata": {},
   "outputs": [
    {
     "name": "stderr",
     "output_type": "stream",
     "text": [
      "Extracting shape features for train: 100%|██████████| 5488/5488 [00:11<00:00, 471.85it/s]\n",
      "Extracting shape features for test: 100%|██████████| 2353/2353 [00:04<00:00, 493.13it/s]\n"
     ]
    }
   ],
   "source": [
    "extract_features('train', 'texture')\n",
    "extract_features('test', 'texture')"
   ]
  },
  {
   "cell_type": "code",
   "execution_count": null,
   "metadata": {},
   "outputs": [],
   "source": []
  }
 ],
 "metadata": {
  "kernelspec": {
   "display_name": "myenv",
   "language": "python",
   "name": "python3"
  },
  "language_info": {
   "codemirror_mode": {
    "name": "ipython",
    "version": 3
   },
   "file_extension": ".py",
   "mimetype": "text/x-python",
   "name": "python",
   "nbconvert_exporter": "python",
   "pygments_lexer": "ipython3",
   "version": "3.9.19"
  }
 },
 "nbformat": 4,
 "nbformat_minor": 2
}
