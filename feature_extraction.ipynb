{
 "cells": [
  {
   "cell_type": "markdown",
   "id": "fe034714-dfc7-45fd-9502-e7f015acc6cd",
   "metadata": {},
   "source": [
    "## Shape"
   ]
  },
  {
   "cell_type": "code",
   "execution_count": 1,
   "id": "44222c6d-0166-431f-a832-42ac9f3159e2",
   "metadata": {},
   "outputs": [],
   "source": [
    "import cv2\n",
    "import numpy as np"
   ]
  },
  {
   "cell_type": "code",
   "execution_count": 2,
   "id": "fa50db4d-df53-480c-a476-038b25176324",
   "metadata": {},
   "outputs": [],
   "source": [
    "def get_shape_features(img):\n",
    "    gray = cv2.cvtColor(img, cv2.COLOR_RGB2GRAY)\n",
    "    ret, thresh = cv2.threshold(gray, 60, 255, cv2.THRESH_BINARY)\n",
    "    contours, _ = cv2.findContours(thresh, cv2.RETR_EXTERNAL, cv2.CHAIN_APPROX_SIMPLE)\n",
    "    \n",
    "    features = []\n",
    "    features.append(len(contours))\n",
    "    \n",
    "    if contours:\n",
    "        largest = max(contours, key=cv2.contourArea)\n",
    "        hu = cv2.HuMoments(cv2.moments(largest)).flatten()\n",
    "        features.extend(hu)\n",
    "    else:\n",
    "        features.extend([0]*7)\n",
    "    \n",
    "    return features\n"
   ]
  },
  {
   "cell_type": "code",
   "execution_count": 3,
   "id": "59e04908-d871-443d-bab9-9ac51ff94c94",
   "metadata": {},
   "outputs": [],
   "source": [
    "import pandas as pd\n",
    "from PIL import Image\n",
    "import os"
   ]
  },
  {
   "cell_type": "code",
   "execution_count": 4,
   "id": "e7bb13f3-35ff-4468-937f-7021b881b4b7",
   "metadata": {},
   "outputs": [
    {
     "data": {
      "text/plain": [
       "array([[ 1.30000000e+01,  1.60713454e-01,  1.45973673e-04, ...,\n",
       "        -1.03001242e-15, -2.79830957e-10, -2.81698107e-14],\n",
       "       [ 9.00000000e+00,  1.91144472e-01,  1.50052339e-05, ...,\n",
       "        -4.27071513e-11, -1.13589814e-09, -1.23215920e-11],\n",
       "       [ 2.00000000e+00,  1.73168644e-01,  7.51198590e-04, ...,\n",
       "        -8.21059077e-10, -3.39737510e-07, -3.03290163e-09],\n",
       "       ...,\n",
       "       [ 2.00000000e+01,  1.72075351e-01,  1.69715391e-03, ...,\n",
       "         3.22612784e-12, -1.14019936e-08, -5.46387948e-12],\n",
       "       [ 3.00000000e+00,  5.65584977e-01,  6.47614423e-02, ...,\n",
       "        -5.87388266e-05, -2.10210316e-03, -1.06292843e-04],\n",
       "       [ 1.50000000e+01,  2.38066863e-01,  1.05519205e-02, ...,\n",
       "        -2.80159457e-07, -1.48364121e-05,  6.66036230e-07]])"
      ]
     },
     "execution_count": 4,
     "metadata": {},
     "output_type": "execute_result"
    }
   ],
   "source": [
    "train_df = pd.read_csv(\"train/train_metadata.csv\")\n",
    "\n",
    "def load_image(path):\n",
    "    img = Image.open(path).convert(\"RGB\")\n",
    "    return np.array(img)\n",
    "\n",
    "new_features = []\n",
    "for path in train_df['image_path']:\n",
    "    img = load_image(os.path.join(\"train\", path))\n",
    "    shape_feat = get_shape_features(img)\n",
    "    combined = shape_feat\n",
    "    new_features.append(combined)\n",
    "\n",
    "new_features = np.array(new_features)\n",
    "new_features"
   ]
  },
  {
   "cell_type": "code",
   "execution_count": null,
   "id": "21afa8fe-3bff-40ce-b88c-728bca458bce",
   "metadata": {},
   "outputs": [],
   "source": []
  }
 ],
 "metadata": {
  "kernelspec": {
   "display_name": "myenv",
   "language": "python",
   "name": "python3"
  },
  "language_info": {
   "codemirror_mode": {
    "name": "ipython",
    "version": 3
   },
   "file_extension": ".py",
   "mimetype": "text/x-python",
   "name": "python",
   "nbconvert_exporter": "python",
   "pygments_lexer": "ipython3",
   "version": "3.9.19"
  }
 },
 "nbformat": 4,
 "nbformat_minor": 5
}
